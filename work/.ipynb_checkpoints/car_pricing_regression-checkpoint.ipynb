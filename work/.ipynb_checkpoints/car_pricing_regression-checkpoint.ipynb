{
 "cells": [
  {
   "cell_type": "code",
   "execution_count": 72,
   "id": "3b2573d5-95ad-441a-bddc-ae181f2a266b",
   "metadata": {},
   "outputs": [],
   "source": [
    "# importing libraries\n",
    "import pandas as pd\n",
    "import numpy as np\n",
    "from sklearn.preprocessing import OneHotEncoder, StandardScaler, RobustScaler\n",
    "from sklearn.compose import ColumnTransformer\n",
    "from sklearn.model_selection import train_test_split\n",
    "from sklearn.pipeline import Pipeline\n",
    "from sklearn.linear_model import LinearRegression\n",
    "from sklearn.ensemble import RandomForestRegressor\n",
    "from sklearn.metrics import mean_absolute_error, mean_squared_error, r2_score"
   ]
  },
  {
   "cell_type": "code",
   "execution_count": 73,
   "id": "313d15d7-ec98-409f-8dfe-82fe64bb3556",
   "metadata": {},
   "outputs": [
    {
     "data": {
      "text/plain": [
       "(     Make Colour  Odometer (KM) Doors\n",
       " 0   Honda  White          35431     4\n",
       " 1     BMW   Blue         192714     5\n",
       " 2   Honda  White          84714     4\n",
       " 3  Toyota  White         154365     4\n",
       " 4  Nissan   Blue         181577     3,\n",
       " 0    15323\n",
       " 1    19943\n",
       " 2    28343\n",
       " 3    13434\n",
       " 4    14043\n",
       " Name: Price, dtype: int64)"
      ]
     },
     "execution_count": 73,
     "metadata": {},
     "output_type": "execute_result"
    }
   ],
   "source": [
    "# 📌 Step 2: Load the Dataset\n",
    "\n",
    "car_sales_data = pd.read_csv(\"./data/car-sales-extended.csv\")\n",
    "# car_sales_data.describe()\n",
    "\n",
    "x = car_sales_data.drop(\"Price\", axis=1)\n",
    "y = car_sales_data[\"Price\"]\n",
    "\n",
    "x[\"Doors\"] = x[\"Doors\"].astype(str)\n",
    "# x.dtypes #get type of columns data\n",
    "x.head(), y.head()"
   ]
  },
  {
   "cell_type": "code",
   "execution_count": 74,
   "id": "94813b71-85c2-4a41-b040-0fe5369089b2",
   "metadata": {},
   "outputs": [
    {
     "data": {
      "text/plain": [
       "((800, 4), (800,), (200, 4), (200,))"
      ]
     },
     "execution_count": 74,
     "metadata": {},
     "output_type": "execute_result"
    }
   ],
   "source": [
    "# 📌 Step 3: Split Data into Training and Testing Sets\n",
    "\n",
    "x_train, x_test, y_train, y_test = train_test_split(x, y, test_size = 0.2, random_state=42)\n",
    "x_train.shape, y_train.shape, x_test.shape, y_test.shape"
   ]
  },
  {
   "cell_type": "code",
   "execution_count": 75,
   "id": "dde5361c-3f30-4ec8-baed-9bf1b2d824b2",
   "metadata": {},
   "outputs": [],
   "source": [
    "# Step 4. Apply Preprocessing (OneHotEncoder + StandardScaler)\n",
    "\n",
    "categorical_features = [\"Make\",\"Colour\", \"Doors\"]\n",
    "numerical_features = ['Odometer (KM)']\n",
    "\n",
    "scaler = RobustScaler()\n",
    "one_hot = OneHotEncoder(sparse_output=False)\n",
    "\n",
    "# Create ColumnTransformer\n",
    "preprocessor = ColumnTransformer([\n",
    "    ('one_hot', one_hot, categorical_features),\n",
    "    ('scaler', scaler, numerical_features)\n",
    "], remainder=\"passthrough\")  # Keep other columns if needed"
   ]
  },
  {
   "cell_type": "code",
   "execution_count": 76,
   "id": "0ff03012-7ca1-4d12-a047-44a8d78bc4ba",
   "metadata": {},
   "outputs": [],
   "source": [
    "# 📌 Step 5: Apply Linear Regression\n",
    "\n",
    "# Create the Pipeline\n",
    "_pipeline = Pipeline([\n",
    "    (\"preprocessing\", preprocessor),\n",
    "    (\"model\", RandomForestRegressor(n_estimators=200, max_depth=10, random_state=42))\n",
    "])\n",
    "\n",
    "######## Check before fitting if the Scaling and Encoding working correctly##########\n",
    "\n",
    "# Transform the training data (without model training)\n",
    "#x_train_transformed = preprocessor.fit_transform(x_train)\n",
    "\n",
    "# Convert to DataFrame for better readability\n",
    "#feature_names = preprocessor.get_feature_names_out()\n",
    "#df_transformed = pd.DataFrame(x_train_transformed, columns=feature_names)\n",
    "\n",
    "# Show transformed data\n",
    "#print(df_transformed.head())\n",
    "\n",
    "#########################################################################################\n",
    "\n",
    "\n",
    "# Train the Model\n",
    "_pipeline.fit(x_train, y_train)\n",
    "\n",
    "y_pred = _pipeline.predict(x_test)\n",
    "# len(y_pred), len(y_test)"
   ]
  },
  {
   "cell_type": "code",
   "execution_count": 78,
   "id": "db916588-7150-4d63-9347-2e53a25693b0",
   "metadata": {},
   "outputs": [
    {
     "name": "stdout",
     "output_type": "stream",
     "text": [
      "🔹 Regression Performance:\n",
      "Mean Absolute Error (MAE): 5836.99\n",
      "Root Mean Squared Error (RMSE): 7642.34\n",
      "R² Score: 0.36\n"
     ]
    }
   ],
   "source": [
    "# Step 6. Performance Evolution\n",
    "\n",
    "mae = mean_absolute_error(y_test, y_pred)\n",
    "rmse = np.sqrt(mean_squared_error(y_test, y_pred))\n",
    "r2 = r2_score(y_test, y_pred)\n",
    "\n",
    "print(f\"🔹 Regression Performance:\")\n",
    "print(f\"Mean Absolute Error (MAE): {mae:.2f}\")\n",
    "print(f\"Root Mean Squared Error (RMSE): {rmse:.2f}\")\n",
    "print(f\"R² Score: {r2:.2f}\")"
   ]
  },
  {
   "cell_type": "code",
   "execution_count": 79,
   "id": "7cc9c460-59b6-470d-b54b-f0fec1f691fa",
   "metadata": {},
   "outputs": [
    {
     "data": {
      "text/html": [
       "<div>\n",
       "<style scoped>\n",
       "    .dataframe tbody tr th:only-of-type {\n",
       "        vertical-align: middle;\n",
       "    }\n",
       "\n",
       "    .dataframe tbody tr th {\n",
       "        vertical-align: top;\n",
       "    }\n",
       "\n",
       "    .dataframe thead th {\n",
       "        text-align: right;\n",
       "    }\n",
       "</style>\n",
       "<table border=\"1\" class=\"dataframe\">\n",
       "  <thead>\n",
       "    <tr style=\"text-align: right;\">\n",
       "      <th></th>\n",
       "      <th>Make</th>\n",
       "      <th>Colour</th>\n",
       "      <th>Odometer (KM)</th>\n",
       "      <th>Doors</th>\n",
       "    </tr>\n",
       "  </thead>\n",
       "  <tbody>\n",
       "    <tr>\n",
       "      <th>0</th>\n",
       "      <td>Honda</td>\n",
       "      <td>White</td>\n",
       "      <td>35431</td>\n",
       "      <td>4</td>\n",
       "    </tr>\n",
       "    <tr>\n",
       "      <th>1</th>\n",
       "      <td>BMW</td>\n",
       "      <td>Blue</td>\n",
       "      <td>192714</td>\n",
       "      <td>5</td>\n",
       "    </tr>\n",
       "    <tr>\n",
       "      <th>2</th>\n",
       "      <td>Honda</td>\n",
       "      <td>White</td>\n",
       "      <td>84714</td>\n",
       "      <td>4</td>\n",
       "    </tr>\n",
       "    <tr>\n",
       "      <th>3</th>\n",
       "      <td>Toyota</td>\n",
       "      <td>White</td>\n",
       "      <td>154365</td>\n",
       "      <td>4</td>\n",
       "    </tr>\n",
       "    <tr>\n",
       "      <th>4</th>\n",
       "      <td>Nissan</td>\n",
       "      <td>Blue</td>\n",
       "      <td>181577</td>\n",
       "      <td>3</td>\n",
       "    </tr>\n",
       "  </tbody>\n",
       "</table>\n",
       "</div>"
      ],
      "text/plain": [
       "     Make Colour  Odometer (KM) Doors\n",
       "0   Honda  White          35431     4\n",
       "1     BMW   Blue         192714     5\n",
       "2   Honda  White          84714     4\n",
       "3  Toyota  White         154365     4\n",
       "4  Nissan   Blue         181577     3"
      ]
     },
     "execution_count": 79,
     "metadata": {},
     "output_type": "execute_result"
    }
   ],
   "source": [
    "x.head()"
   ]
  },
  {
   "cell_type": "code",
   "execution_count": 63,
   "id": "99b89b65-4af6-41fc-977a-8c8ee3dc8667",
   "metadata": {},
   "outputs": [
    {
     "data": {
      "text/plain": [
       "0    15323\n",
       "1    19943\n",
       "2    28343\n",
       "3    13434\n",
       "4    14043\n",
       "Name: Price, dtype: int64"
      ]
     },
     "execution_count": 63,
     "metadata": {},
     "output_type": "execute_result"
    }
   ],
   "source": [
    "y.head()"
   ]
  },
  {
   "cell_type": "code",
   "execution_count": null,
   "id": "306711d3-d170-44bb-877b-309979d674a2",
   "metadata": {},
   "outputs": [],
   "source": []
  }
 ],
 "metadata": {
  "kernelspec": {
   "display_name": "Python 3 (ipykernel)",
   "language": "python",
   "name": "python3"
  },
  "language_info": {
   "codemirror_mode": {
    "name": "ipython",
    "version": 3
   },
   "file_extension": ".py",
   "mimetype": "text/x-python",
   "name": "python",
   "nbconvert_exporter": "python",
   "pygments_lexer": "ipython3",
   "version": "3.12.8"
  }
 },
 "nbformat": 4,
 "nbformat_minor": 5
}
