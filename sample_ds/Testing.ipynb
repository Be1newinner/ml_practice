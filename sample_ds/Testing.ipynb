{
 "cells": [
  {
   "cell_type": "markdown",
   "id": "2f43a651-7258-408c-bf80-2629252f9f36",
   "metadata": {},
   "source": [
    "# Testing"
   ]
  },
  {
   "cell_type": "code",
   "execution_count": 6,
   "id": "f2fe4339-7178-4033-9e13-4d8fb9fd43ec",
   "metadata": {},
   "outputs": [
    {
     "name": "stdout",
     "output_type": "stream",
     "text": [
      "HI Vijay\n"
     ]
    }
   ],
   "source": [
    "print(\"HI Vijay\")"
   ]
  },
  {
   "cell_type": "code",
   "execution_count": null,
   "id": "913537fd-5c04-4251-afc8-dcd9c5233264",
   "metadata": {},
   "outputs": [],
   "source": []
  }
 ],
 "metadata": {
  "kernelspec": {
   "display_name": "Python 3 (ipykernel)",
   "language": "python",
   "name": "python3"
  },
  "language_info": {
   "codemirror_mode": {
    "name": "ipython",
    "version": 3
   },
   "file_extension": ".py",
   "mimetype": "text/x-python",
   "name": "python",
   "nbconvert_exporter": "python",
   "pygments_lexer": "ipython3",
   "version": "3.12.8"
  }
 },
 "nbformat": 4,
 "nbformat_minor": 5
}
